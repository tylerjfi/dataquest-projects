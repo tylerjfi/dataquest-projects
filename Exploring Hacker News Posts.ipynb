{
 "cells": [
  {
   "cell_type": "markdown",
   "metadata": {
    "collapsed": true
   },
   "source": [
    "# Analysis of Hacker News Posts\n",
    "#### Do Certain Types of Posts Receive More Comments?\n",
    "#### Does the Time of the Post Impact Popularity?\n",
    "\n",
    "In this project, we will be working with a data set of submissions to a popular technology site [Hacker News](https://news.ycombinator.com/). \n",
    "\n",
    "Specifically, we will be analyzing posts with \"Ask HN\" or \"Show HN\" in the title to see if these posts receive more comments on average than other posts.  We will also be analyzing the timing of posts and how it can impact the popularity of the posts.\n"
   ]
  },
  {
   "cell_type": "code",
   "execution_count": 1,
   "metadata": {},
   "outputs": [
    {
     "name": "stdout",
     "output_type": "stream",
     "text": [
      "[['id', 'title', 'url', 'num_points', 'num_comments', 'author', 'created_at'], ['12224879', 'Interactive Dynamic Video', 'http://www.interactivedynamicvideo.com/', '386', '52', 'ne0phyte', '8/4/2016 11:52'], ['10975351', 'How to Use Open Source and Shut the Fuck Up at the Same Time', 'http://hueniverse.com/2016/01/26/how-to-use-open-source-and-shut-the-fuck-up-at-the-same-time/', '39', '10', 'josep2', '1/26/2016 19:30'], ['11964716', \"Florida DJs May Face Felony for April Fools' Water Joke\", 'http://www.thewire.com/entertainment/2013/04/florida-djs-april-fools-water-joke/63798/', '2', '1', 'vezycash', '6/23/2016 22:20'], ['11919867', 'Technology ventures: From Idea to Enterprise', 'https://www.amazon.com/Technology-Ventures-Enterprise-Thomas-Byers/dp/0073523429', '3', '1', 'hswarna', '6/17/2016 0:01']]\n"
     ]
    }
   ],
   "source": [
    "from csv import reader\n",
    "opened_file = open(\"hacker_news.csv\")\n",
    "read_file = reader(opened_file)\n",
    "hn = list(read_file)\n",
    "print(hn[:5])"
   ]
  },
  {
   "cell_type": "code",
   "execution_count": 2,
   "metadata": {
    "scrolled": true
   },
   "outputs": [
    {
     "name": "stdout",
     "output_type": "stream",
     "text": [
      "['id', 'title', 'url', 'num_points', 'num_comments', 'author', 'created_at']\n",
      "[['12224879', 'Interactive Dynamic Video', 'http://www.interactivedynamicvideo.com/', '386', '52', 'ne0phyte', '8/4/2016 11:52'], ['10975351', 'How to Use Open Source and Shut the Fuck Up at the Same Time', 'http://hueniverse.com/2016/01/26/how-to-use-open-source-and-shut-the-fuck-up-at-the-same-time/', '39', '10', 'josep2', '1/26/2016 19:30'], ['11964716', \"Florida DJs May Face Felony for April Fools' Water Joke\", 'http://www.thewire.com/entertainment/2013/04/florida-djs-april-fools-water-joke/63798/', '2', '1', 'vezycash', '6/23/2016 22:20'], ['11919867', 'Technology ventures: From Idea to Enterprise', 'https://www.amazon.com/Technology-Ventures-Enterprise-Thomas-Byers/dp/0073523429', '3', '1', 'hswarna', '6/17/2016 0:01'], ['10301696', 'Note by Note: The Making of Steinway L1037 (2007)', 'http://www.nytimes.com/2007/11/07/movies/07stein.html?_r=0', '8', '2', 'walterbell', '9/30/2015 4:12']]\n"
     ]
    }
   ],
   "source": [
    "#Re-running this cell will screw up dataset, restart and run\n",
    "#if you need to re-run it.\n",
    "headers = hn[0]\n",
    "hn = hn[1:]\n",
    "print(headers)\n",
    "print(hn[:5])"
   ]
  },
  {
   "cell_type": "code",
   "execution_count": 3,
   "metadata": {
    "scrolled": true
   },
   "outputs": [
    {
     "name": "stdout",
     "output_type": "stream",
     "text": [
      "The number of 'Ask HN' posts is 1744\n",
      "The number of 'Show HN' posts is 1162\n",
      "the number of other posts is 17194\n"
     ]
    }
   ],
   "source": [
    "#Initialize empty lists to sort our data\n",
    "ask_posts = []\n",
    "show_posts = []\n",
    "other_posts = []\n",
    "\n",
    "for row in hn:\n",
    "    title = row[1]\n",
    "    #startswith function requires case match, so make everything\n",
    "    #lowercase to be sure\n",
    "    title = title.lower()\n",
    "    #append each to correct list\n",
    "    if title.startswith('ask hn'):\n",
    "        ask_posts.append(row)\n",
    "    elif title.startswith('show hn'):\n",
    "        show_posts.append(row)\n",
    "    else:\n",
    "        other_posts.append(row)\n",
    "\n",
    "#Check to make sure each worked correctly\n",
    "print(\"The number of 'Ask HN' posts is \" + str(len(ask_posts)))\n",
    "print(\"The number of 'Show HN' posts is \" + str(len(show_posts)))\n",
    "print(\"the number of other posts is \" + str(len(other_posts)))\n"
   ]
  },
  {
   "cell_type": "code",
   "execution_count": 4,
   "metadata": {},
   "outputs": [
    {
     "name": "stdout",
     "output_type": "stream",
     "text": [
      "14.038417431192661\n"
     ]
    }
   ],
   "source": [
    "total_ask_comments = 0\n",
    "for row in ask_posts:\n",
    "    num_comments = int(row[4])\n",
    "    total_ask_comments += num_comments\n",
    "avg_ask_comments = total_ask_comments / len(ask_posts)\n",
    "print(avg_ask_comments)"
   ]
  },
  {
   "cell_type": "code",
   "execution_count": 5,
   "metadata": {},
   "outputs": [
    {
     "name": "stdout",
     "output_type": "stream",
     "text": [
      "10.31669535283993\n"
     ]
    }
   ],
   "source": [
    "total_show_comments = 0\n",
    "for row in show_posts:\n",
    "    num_comments = int(row[4])\n",
    "    total_show_comments += num_comments\n",
    "avg_show_comments = total_show_comments / len(show_posts)\n",
    "print(avg_show_comments)"
   ]
  },
  {
   "cell_type": "markdown",
   "metadata": {},
   "source": [
    "In general, 'Ask HN' posts are more common on Hacker News, with a total of 1744 posts in our data set, as opposed to 1162 'Show HN' posts.  \n",
    "\n",
    "'Ask HN' posts also appear to be more engaging than 'Show HN' posts, with the average 'Ask HN' post gathering just over 14 comments per post, compared to 10.3 comments per post for 'Show HN' posts.\n",
    "\n",
    "Because of this finding that 'Ask HN' posts receive more comments on average, we will focus our remaining analysis just on these posts.\n",
    "\n",
    "In this next section, we will determine if 'Ask HN' posts created at a certain time are more likely to engage users using the following steps:\n",
    "1. Calculate the amount of 'Ask HN' posts created in each hour of the day, along with the number of comments received.\n",
    "2. Calculate the average number of comments 'Ask HN' posts receive by hour created."
   ]
  },
  {
   "cell_type": "code",
   "execution_count": 6,
   "metadata": {},
   "outputs": [
    {
     "name": "stdout",
     "output_type": "stream",
     "text": [
      "[['8/16/2016 9:55', 6], ['11/22/2015 13:43', 29], ['5/2/2016 10:14', 1], ['8/2/2016 14:20', 3], ['10/15/2015 16:38', 17]]\n"
     ]
    }
   ],
   "source": [
    "import datetime as dt\n",
    "\n",
    "result_list = []\n",
    "for row in ask_posts:\n",
    "    created_at = row[6]\n",
    "    num_comments = int(row[4])\n",
    "    new_row = [created_at, num_comments]\n",
    "    result_list.append(new_row)\n",
    "print(result_list[:5])"
   ]
  },
  {
   "cell_type": "code",
   "execution_count": 7,
   "metadata": {
    "scrolled": true
   },
   "outputs": [
    {
     "name": "stdout",
     "output_type": "stream",
     "text": [
      "{'06': 44, '19': 110, '12': 73, '07': 34, '18': 109, '04': 47, '09': 45, '10': 59, '23': 68, '22': 71, '14': 107, '02': 58, '13': 85, '16': 108, '00': 55, '17': 100, '03': 54, '11': 58, '05': 46, '15': 116, '01': 60, '21': 109, '20': 80, '08': 48}\n",
      "\n",
      "\n",
      "{'06': 397, '19': 1188, '12': 687, '07': 267, '18': 1439, '04': 337, '09': 251, '10': 793, '23': 543, '22': 479, '14': 1416, '02': 1381, '13': 1253, '16': 1814, '00': 447, '17': 1146, '03': 421, '11': 641, '05': 464, '15': 4477, '01': 683, '21': 1745, '20': 1722, '08': 492}\n"
     ]
    }
   ],
   "source": [
    "#Same thing as earlier, restart and run all if needs redone\n",
    "counts_by_hour = {}\n",
    "comments_by_hour = {}\n",
    "\n",
    "for row in result_list:\n",
    "    post_time = row[0]\n",
    "    num_comments = row[1]\n",
    "    #Convert to datetime object\n",
    "    post_time = dt.datetime.strptime(post_time, \"%m/%d/%Y %H:%M\")\n",
    "    #Select just the hour from datetime object\n",
    "    post_time = post_time.strftime(\"%H\")\n",
    "    if post_time not in counts_by_hour:\n",
    "        #Creating dictionaries for number of posts and number of comments\n",
    "        counts_by_hour[post_time] = 1\n",
    "        comments_by_hour[post_time] = num_comments\n",
    "    else: \n",
    "        counts_by_hour[post_time] += 1\n",
    "        comments_by_hour[post_time] += num_comments\n",
    "\n",
    "print(counts_by_hour)\n",
    "print('\\n')\n",
    "print(comments_by_hour)"
   ]
  },
  {
   "cell_type": "code",
   "execution_count": 8,
   "metadata": {
    "scrolled": true
   },
   "outputs": [
    {
     "name": "stdout",
     "output_type": "stream",
     "text": [
      "[['06', 9.022727272727273], ['19', 10.8], ['12', 9.41095890410959], ['07', 7.852941176470588], ['18', 13.20183486238532], ['04', 7.170212765957447], ['09', 5.5777777777777775], ['10', 13.440677966101696], ['23', 7.985294117647059], ['22', 6.746478873239437], ['14', 13.233644859813085], ['02', 23.810344827586206], ['13', 14.741176470588234], ['16', 16.796296296296298], ['00', 8.127272727272727], ['17', 11.46], ['03', 7.796296296296297], ['11', 11.051724137931034], ['05', 10.08695652173913], ['15', 38.5948275862069], ['01', 11.383333333333333], ['21', 16.009174311926607], ['20', 21.525], ['08', 10.25]]\n"
     ]
    }
   ],
   "source": [
    "#Creating a new list of lists to calculate the average number\n",
    "#of posts per hour\n",
    "avg_by_hour = []\n",
    "for post in comments_by_hour:\n",
    "    avg_by_hour.append([post, comments_by_hour[post]/counts_by_hour[post]])\n",
    "    \n",
    "print(avg_by_hour)"
   ]
  },
  {
   "cell_type": "code",
   "execution_count": 9,
   "metadata": {
    "scrolled": true
   },
   "outputs": [
    {
     "name": "stdout",
     "output_type": "stream",
     "text": [
      "[[9.022727272727273, '06'], [10.8, '19'], [9.41095890410959, '12'], [7.852941176470588, '07'], [13.20183486238532, '18'], [7.170212765957447, '04'], [5.5777777777777775, '09'], [13.440677966101696, '10'], [7.985294117647059, '23'], [6.746478873239437, '22'], [13.233644859813085, '14'], [23.810344827586206, '02'], [14.741176470588234, '13'], [16.796296296296298, '16'], [8.127272727272727, '00'], [11.46, '17'], [7.796296296296297, '03'], [11.051724137931034, '11'], [10.08695652173913, '05'], [38.5948275862069, '15'], [11.383333333333333, '01'], [16.009174311926607, '21'], [21.525, '20'], [10.25, '08']]\n",
      "\n",
      "\n",
      "[[38.5948275862069, '15'], [23.810344827586206, '02'], [21.525, '20'], [16.796296296296298, '16'], [16.009174311926607, '21'], [14.741176470588234, '13'], [13.440677966101696, '10'], [13.233644859813085, '14'], [13.20183486238532, '18'], [11.46, '17'], [11.383333333333333, '01'], [11.051724137931034, '11'], [10.8, '19'], [10.25, '08'], [10.08695652173913, '05'], [9.41095890410959, '12'], [9.022727272727273, '06'], [8.127272727272727, '00'], [7.985294117647059, '23'], [7.852941176470588, '07'], [7.796296296296297, '03'], [7.170212765957447, '04'], [6.746478873239437, '22'], [5.5777777777777775, '09']]\n"
     ]
    }
   ],
   "source": [
    "swap_avg_by_hour = []\n",
    "for row in avg_by_hour:\n",
    "    first = row[0]\n",
    "    second = row[1]\n",
    "    swap_avg_by_hour.append([second, first])\n",
    "print(swap_avg_by_hour)\n",
    "print('\\n')\n",
    "\n",
    "sorted_swap = sorted(swap_avg_by_hour, reverse = True)\n",
    "print(sorted_swap)"
   ]
  },
  {
   "cell_type": "code",
   "execution_count": 10,
   "metadata": {
    "scrolled": true
   },
   "outputs": [
    {
     "name": "stdout",
     "output_type": "stream",
     "text": [
      "Top 5 Hours for 'Ask HN' Posts Comments\n",
      "15:00: 38.59 average comments per post\n",
      "02:00: 23.81 average comments per post\n",
      "20:00: 21.52 average comments per post\n",
      "16:00: 16.80 average comments per post\n",
      "21:00: 16.01 average comments per post\n"
     ]
    }
   ],
   "source": [
    "print(\"Top 5 Hours for 'Ask HN' Posts Comments\")\n",
    "for avg, hr in sorted_swap[:5]:\n",
    "    print(\"{}: {:.2f} average comments per post\".format(\n",
    "    dt.datetime.strptime(hr, \"%H\").strftime(\"%H:%M\"), avg))\n",
    "    "
   ]
  },
  {
   "cell_type": "markdown",
   "metadata": {},
   "source": [
    "There appears to be quite a variety of times to create 'Ask HN' posts that generate interaction.  The most popular time by a fairly large margin is at 3:00 PM, with the second most popular time being almost 12 hours later at 2:00 AM. \n",
    "\n",
    "In general, it appears that you have a higher chance of receiving comments if you create a post in the afternoon, evening, or late at night.  Posts made in the morning or early afternoon do not appear to generate as much interaction.  "
   ]
  },
  {
   "cell_type": "markdown",
   "metadata": {},
   "source": [
    "# In Summary\n",
    "\n",
    "In this project, we set out to analyze 'Ask HN' and 'Show HN' posts on the Hacker News site because these posts tend to generate a good deal of interaction. \n",
    "\n",
    "Our first step was to determine which type of post generated more interaction on average, which we determined were 'Ask HN' posts (~14 comments per post vs 10.3 on 'Show HN').  We accomplished this by sorted all of the posts in our data set into lists based on if the post title began with 'Ask HN', 'Show HN' or other.  We then calculated the total number of posts and comments in each category to create an average number of comments and compared.\n",
    "\n",
    "The next step was to determine which time of day was best to post if your goal is to generate user interaction.  For this part, we focused solely on 'Ask HN' posts.  We first needed to extract the date/time and number of comments for each post.  We then used this data to create two dictionaries: one counting the number of posts per hour, and the other counting the number of comments per hour.  We used these dictionaries to calculating the average number of comments per hour and then analyzed the data, finding that the most interactive posts were posted from 3:00 - 3:59 PM."
   ]
  }
 ],
 "metadata": {
  "kernelspec": {
   "display_name": "Python 3",
   "language": "python",
   "name": "python3"
  },
  "language_info": {
   "codemirror_mode": {
    "name": "ipython",
    "version": 3
   },
   "file_extension": ".py",
   "mimetype": "text/x-python",
   "name": "python",
   "nbconvert_exporter": "python",
   "pygments_lexer": "ipython3",
   "version": "3.7.3"
  }
 },
 "nbformat": 4,
 "nbformat_minor": 2
}
